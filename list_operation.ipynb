{
 "cells": [
  {
   "cell_type": "markdown",
   "metadata": {},
   "source": [
    "# Indexing\n"
   ]
  },
  {
   "cell_type": "code",
   "execution_count": 3,
   "metadata": {},
   "outputs": [
    {
     "name": "stdout",
     "output_type": "stream",
     "text": [
      "Aijaz\n",
      "Shehbaz\n",
      "shehzad\n",
      "shehzad\n"
     ]
    }
   ],
   "source": [
    "list1 = [ 'Aijaz', 'shehzad', 'Shehbaz']\n",
    "\n",
    "print(list1[0]) # Aijaz\n",
    "\n",
    "print(list1[-1]) # Shehbaz\n",
    "\n",
    "print(list1[-2]) # Shehzad\n",
    "\n",
    "print(list1[1]) # Shehzad"
   ]
  },
  {
   "cell_type": "markdown",
   "metadata": {},
   "source": [
    "# Slicing"
   ]
  },
  {
   "cell_type": "code",
   "execution_count": 63,
   "metadata": {},
   "outputs": [
    {
     "name": "stdout",
     "output_type": "stream",
     "text": [
      "['0', '1']\n",
      "['3', '4', '5', '6', '7', '8', '9', 10, 11]\n",
      "['0', '2', '4', '6']\n",
      "['2', '5', '8']\n",
      "[11, 10, '9', '8', '7', '6', '5', '4', '3', '2', '1', '0']  reverse order\n",
      "['2', '1', '0'] slicing in reverse order\n",
      "['2', '6', 10] slicing in reverse order\n",
      "['2'] slicing in reverse order\n",
      "11\n",
      "10\n",
      "9\n",
      "8\n",
      "7\n",
      "6\n",
      "5\n",
      "4\n",
      "3\n",
      "2\n",
      "1\n",
      "0\n",
      "[22, 33, '1', '2', '3', '4', '5', '6', '7', '8', '9', 10, 11] SA\n",
      "[22, 33, '1', 223, 323, '3', '4', '5', '6', '7', '8', '9', 10, 11] SAee\n"
     ]
    }
   ],
   "source": [
    "list2 = [ '0', '1', '2', '3', '4', '5', '6', '7', '8', '9', 10, 11]\n",
    "\n",
    "print(list2[  : 2 ])\n",
    "\n",
    "print(list2[ 3 :  ])\n",
    "\n",
    "print(list2[ 0 : 7 : 2 ])\n",
    "\n",
    "print(list2[ 2 : 9 : 3 ])\n",
    "\n",
    "# Slicing In Reverse order\n",
    "\n",
    "print(list2[  :: -1], ' reverse order')\n",
    "\n",
    "print(list2[ 2 :: -1], 'slicing in reverse order')\n",
    "\n",
    "print(list2[ 2 :: 4 ], 'slicing in reverse order')\n",
    "\n",
    "print(list2[ 2 :: -3], 'slicing in reverse order')\n",
    "\n",
    "for i in reversed(list2):\n",
    "    print(i)\n",
    "#     break\n",
    "\n",
    "    \n",
    "    # Slice Assignment\n",
    "list2[0:1]=[22,33]\n",
    "print(list2,'SA')\n",
    "list2[3:4]=[223,323]\n",
    "print(list2,'SAee')"
   ]
  },
  {
   "cell_type": "code",
   "execution_count": null,
   "metadata": {},
   "outputs": [],
   "source": []
  }
 ],
 "metadata": {
  "kernelspec": {
   "display_name": "Python 3",
   "language": "python",
   "name": "python3"
  },
  "language_info": {
   "codemirror_mode": {
    "name": "ipython",
    "version": 3
   },
   "file_extension": ".py",
   "mimetype": "text/x-python",
   "name": "python",
   "nbconvert_exporter": "python",
   "pygments_lexer": "ipython3",
   "version": "3.7.3"
  }
 },
 "nbformat": 4,
 "nbformat_minor": 2
}
